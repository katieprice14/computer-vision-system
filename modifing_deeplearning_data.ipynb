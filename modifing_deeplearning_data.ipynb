{
  "nbformat": 4,
  "nbformat_minor": 0,
  "metadata": {
    "colab": {
      "provenance": [],
      "authorship_tag": "ABX9TyNsI9+FEXV5fLuzSWaD6YWt",
      "include_colab_link": true
    },
    "kernelspec": {
      "name": "python3",
      "display_name": "Python 3"
    },
    "language_info": {
      "name": "python"
    }
  },
  "cells": [
    {
      "cell_type": "markdown",
      "metadata": {
        "id": "view-in-github",
        "colab_type": "text"
      },
      "source": [
        "<a href=\"https://colab.research.google.com/github/katieprice14/computer-vision-system/blob/master/modifing_deeplearning_data.ipynb\" target=\"_parent\"><img src=\"https://colab.research.google.com/assets/colab-badge.svg\" alt=\"Open In Colab\"/></a>"
      ]
    },
    {
      "cell_type": "markdown",
      "source": [
        "## Imports and mounting to drive"
      ],
      "metadata": {
        "id": "h-jkupJ2zar8"
      }
    },
    {
      "cell_type": "code",
      "source": [
        "from google.colab import drive\n",
        "import os\n",
        "import openpyxl\n",
        "import numpy as np\n",
        "\n",
        "drive.mount('/content/drive')"
      ],
      "metadata": {
        "id": "rSdy-e8uzbX5"
      },
      "execution_count": null,
      "outputs": []
    },
    {
      "cell_type": "markdown",
      "source": [
        "## Extracting data and Track\n",
        "\n",
        "This opens the input data in a binary file (directory), and the output file (excel file)\n",
        "\n",
        "Opens a binary and csv file to write data and track\n",
        "\n",
        "Opens the excel file and extracts the width, length, height, volume and adds it to an array as data type float 32"
      ],
      "metadata": {
        "id": "t5ucfQDvzydj"
      }
    },
    {
      "cell_type": "code",
      "execution_count": null,
      "metadata": {
        "id": "SsCtvkzEkBim"
      },
      "outputs": [],
      "source": [
        "directory = r\"/content/drive/MyDrive/VT Animal Science: Computer vision system for beef cattle/Deep Learning Scripts and Resources/data/bin\"\n",
        "directory_output = r\"/content/drive/MyDrive/VT Animal Science: Computer vision system for beef cattle/Deep Learning Scripts and Resources/data/type_cow\"\n",
        "\n",
        "allcowsb = open(directory + \"/allcows.bin\", \"wb\")\n",
        "allcowsc = open(directory + \"/allcows.csv\", \"w\")\n",
        "\n",
        "csv_files = [x for x in os.listdir(directory) if \".csv\" in x]\n",
        "start = 0\n",
        "\n",
        "wb = openpyxl.load_workbook(directory_output + '/' + id + \".xlsx\")\n",
        "sheet = wb.active\n",
        "for idx,csv in enumerate(csv_files):\n",
        "  if idx == 2:\n",
        "    break\n",
        "  track = open(directory + \"/\" + csv,\"r\")\n",
        "  print(directory + \"/\" + csv)\n",
        "  id = csv[:-10]\n",
        "  bin = open(directory + \"/\" + id + \".bin\", \"rb\")\n",
        "\n",
        "\n",
        "  width = sheet['F2'].value\n",
        "  length = sheet['G2'].value\n",
        "  height = sheet['I2'].value\n",
        "  volume = sheet['J2'].value\n",
        "  array = np.array([width,length,height,volume],dtype=np.float32)"
      ]
    },
    {
      "cell_type": "markdown",
      "source": [
        "## Reading Bin and CSV files\n",
        "\n",
        "Reads the values in the Bin file (actual measurements) and the csv file (tracking file)\n",
        "\n",
        "writes the information from the bin file and the csv file into a bin and csv file that compiles all of the cows\n",
        "\n",
        "Read_bytes tracks the number of bytes used in each image from the csv file\n",
        "\n",
        "wroteI - writes the length of file in bytes into allcowsb\n",
        "\n",
        "wroteO - Writes the output data in bytes into the binary file\n",
        "\n",
        "In the CSV File, writes the start point, length of file, start point and output data"
      ],
      "metadata": {
        "id": "IkyUu3Sl0fJJ"
      }
    },
    {
      "cell_type": "code",
      "source": [
        "  for row in track:\n",
        "    cell = row.split(\",\")\n",
        "    bin.seek(int(cell[0]))\n",
        "    read_bytes = bin.read(int(cell[1]))\n",
        "    data = np.frombuffer(read_bytes)\n",
        "    data = data.astype(np.float32)\n",
        "    wroteI = allcowsb.write(data.tobytes())\n",
        "    wroteO = allcowsb.write(array.tobytes())    \n",
        "    allcowsc.write(str(start)+\",\"+str(wroteI)+\",\")\n",
        "    start += wroteI \n",
        "    allcowsc.write(str(start)+\",\"+str(wroteO)+\"\\n\")\n",
        "    start += wroteO\n",
        "  track.close()\n",
        "  bin.close()\n",
        "allcowsb.close()\n",
        "allcowsc.close()"
      ],
      "metadata": {
        "id": "k2pygY-BzWcH"
      },
      "execution_count": null,
      "outputs": []
    },
    {
      "cell_type": "markdown",
      "source": [
        "## Adding to the Complete Binary File and shuffling\n",
        "\n",
        "Opens the binary file and shuffles each line\n",
        "Writes the shuffled lines into a new complete file"
      ],
      "metadata": {
        "id": "NBqtal030kXq"
      }
    },
    {
      "cell_type": "code",
      "source": [
        "with open(directory + \"/allcows.bin\", \"rb\") as allcowsbin:\n",
        "  with open(directory + \"/allcows.csv\", \"r\") as allcowscsv:\n",
        "    with open(directory + \"/complete.bin\", \"wb\") as complete:\n",
        "      csv_array = allcowscsv.readlines()\n",
        "      shuffled = np.random.shuffle(csv_array)\n",
        "      for line in csv_array:\n",
        "        cell = line.strip().split(',')\n",
        "        allcowsbin.seek(int(cell[0]))\n",
        "        one = allcowsbin.read(int(cell[1]))\n",
        "        allcowsbin.seek(int(cell[2]))\n",
        "        two = allcowsbin.read(int(cell[3]))\n",
        "        complete.write(one)\n",
        "        complete.write(two)"
      ],
      "metadata": {
        "id": "t2nUVDkr3Tt1"
      },
      "execution_count": null,
      "outputs": []
    },
    {
      "cell_type": "markdown",
      "source": [
        "Combines the input data in into a singular batch\n",
        "\n",
        "Combines the output data into a singular batch\n",
        "\n",
        "Writes the start bytes, length, and end bytes into a CSV file"
      ],
      "metadata": {
        "id": "B-O4tPZ21kOl"
      }
    },
    {
      "cell_type": "code",
      "source": [],
      "metadata": {
        "id": "iD4WQt_341EC"
      },
      "execution_count": null,
      "outputs": []
    },
    {
      "cell_type": "code",
      "source": [
        "batch_size = 32\n",
        "start_bytes = 0\n",
        "input_array = np.zeros((batch_size,224,224,3)) #Change from 3 to 1\n",
        "output_array = np.zeros((batch_size,4))\n",
        "with open(directory + \"/complete.bin\", \"rb\") as complete:\n",
        "  with open(directory + \"/allcows.csv\", \"r\") as allcowscsv:\n",
        "    with open(directory + \"/allcows.bin\", \"wb\") as allcowsbin:\n",
        "      with open(directory + \"/cows.csv\",\"w\") as cows:\n",
        "        csv_array = allcowscsv.readlines()\n",
        "        for idx,line in enumerate(csv_array):\n",
        "          index = idx % batch_size\n",
        "          cell = line.strip().split(',')\n",
        "          complete.seek(int(cell[0]))\n",
        "          one = complete.read(int(cell[1]))\n",
        "          one = np.frombuffer(one,dtype = np.float32)\n",
        "          one = one.reshape((224,224,3))\n",
        "          complete.seek(int(cell[2]))\n",
        "          two = complete.read(int(cell[3]))\n",
        "          two = np.frombuffer(two,dtype = np.float32)\n",
        "          two = two.reshape((4))   \n",
        "          input_array[index,:,:,:] = one\n",
        "          output_array[index,:] = two  \n",
        "          if index == batch_size-1:\n",
        "            write_input = allcowsbin.write(input_array.tobytes())\n",
        "            write_output = allcowsbin.write(output_array.tobytes())\n",
        "            cows.write(str(start_bytes))\n",
        "            cows.write(\",\" + str(write_input))\n",
        "            start_bytes += write_input\n",
        "            cows.write(\",\" + str(start_bytes))\n",
        "            cows.write(\",\" + str(write_output))\n",
        "            start_bytes += write_output\n",
        "        index += 1            "
      ],
      "metadata": {
        "id": "ZRxkmW1I7cRM"
      },
      "execution_count": null,
      "outputs": []
    }
  ]
}